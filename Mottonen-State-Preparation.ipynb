{
 "cells": [
  {
   "cell_type": "markdown",
   "metadata": {},
   "source": [
    "# Problem Statement :\n",
    "\n",
    "## Task 3 Mottonen state preparation\n",
    "Implement the Mottonen state preparation of any dataset you have for at most one 8-element vector.\n",
    "\n",
    "\n",
    "def state_prep(Optional[list,array]: input_vector):\n",
    "\\<br>\n",
    "     “””\n",
    "     input_vector: List, array that contain float values of size 2^n\n",
    "     Return the  mottomen state preparation of the input_vector\n",
    "     “””\n",
    "\n",
    "     # use a framework that works with quantum circuits, qiskit, cirq, pennylane, etc. \n",
    "     # define a quantum circuit to convert the vector in a quantum circuit\n",
    "     # define the Mottonen state\n",
    "\n",
    "\n",
    "# consider print your quantum circuit\n",
    "\n",
    "\n",
    "Bonus: \n",
    "Consider a state vector of size 5,7,10 how you can implement a vector of size different to 2^n.\n",
    "\n",
    "References: \n",
    "\n",
    "[1] Transformation of quantum states using uniformly controlled rotations \n",
    "https://arxiv.org/pdf/quant-ph/0407010.pdf \n"
   ]
  },
  {
   "cell_type": "markdown",
   "metadata": {},
   "source": [
    "# I have discussed the implementation and its overiew in a separate pdf document \"Implementation and Overview\" in the "
   ]
  },
  {
   "cell_type": "code",
   "execution_count": 1,
   "metadata": {},
   "outputs": [],
   "source": [
    "import numpy as np    # requires two libraries namely Numpy and qiskit\n",
    "from qiskit import QuantumCircuit,QuantumRegister,execute\n",
    "from qiskit.providers.aer import QasmSimulator"
   ]
  },
  {
   "cell_type": "code",
   "execution_count": 2,
   "metadata": {},
   "outputs": [],
   "source": [
    "def alpha_y(ar,k,j) :    # gives the \\alpha 's required for the amplitude encoding\n",
    "  ar = np.abs(ar)\n",
    "  m = int(2**(k-1))\n",
    "  a = 0\n",
    "\n",
    "  for l in range(m) :\n",
    "    a+= ar[(2*(j+1)-1)*m+l]**2\n",
    "\n",
    "  mk = int(2**k)\n",
    "  b = 0\n",
    "\n",
    "  for l in range(mk) :\n",
    "    b+= ar[j*mk+l]**2\n",
    "\n",
    "  if b != 0 :\n",
    "    r = np.sqrt(a/b)\n",
    "  else :\n",
    "    r = 0.0\n",
    "\n",
    "  return 2*np.arcsin(r) \n",
    "\n",
    "def g(i) :  # binary grey code return functions\n",
    "  return i ^ (i >> 1) \n",
    "\n",
    "def M(k) : # the transformation matrix which takes \\alpha 's to \\theta 's \n",
    "  \n",
    "  n = 2**k\n",
    "  M = np.zeros([n,n])\n",
    "\n",
    "  for i in range(n) :\n",
    "    for j in range(n) :\n",
    "\n",
    "      M[i,j] = 2**(-k)*(-1)**(bin(j&g(i)).count('1'))\n",
    "\n",
    "  return M\n",
    "\n",
    "def theta(M,alphas) : # \\alpha_y --- > \\theta_y , \\theta = M @ \\alpha_y \n",
    "    \n",
    "  return M@alphas\n",
    "\n",
    "\n",
    "def ind(k) : # gives the control index required while appling the required c-x gates\n",
    "  \n",
    "  n = 2**k\n",
    "  code = [g(i) for i in range(n)]\n",
    "  \n",
    "  control = []\n",
    "  \n",
    "  for i in range(n-1) :\n",
    "    control.append(int(np.log2(code[i]^code[i+1])))\n",
    "  control.append(int(np.log2(code[n-1]^code[0])))\n",
    "  return control\n",
    "\n",
    "# k-controlled uniform rotation gate decomposed into the c-nots and rotational y's, R_y(\\theta)\n",
    "\n",
    "def k_controlled_uniform_rotation_y(qc,alpha_k,control_qubits,target_qubit) : \n",
    "  \n",
    "  k = len(control_qubits)\n",
    "  n = 2**k\n",
    "  thetas = theta(M(k),alpha_k)\n",
    "\n",
    "  if k == 0:\n",
    "    qc.ry(thetas[0],target_qubit)\n",
    "  else :\n",
    "    control_index = ind(k)\n",
    "    for i in range(n) :\n",
    "      qc.ry(thetas[i],target_qubit)\n",
    "      qc.cx(control_qubits[k-1-control_index[i]],target_qubit)"
   ]
  },
  {
   "cell_type": "code",
   "execution_count": 3,
   "metadata": {},
   "outputs": [],
   "source": [
    "\n",
    "def state_prep(input_vector) :\n",
    "    \n",
    "    n = int(np.log2(len(input_vector)))\n",
    "    state = ( 1/np.linalg.norm(input_vector) )* input_vector\n",
    "\n",
    "    q = QuantumRegister(n)  # the quantum register initialized with all |0>'s with the circuit\n",
    "    qc = QuantumCircuit(q)\n",
    "    \n",
    "    for k in range(n):\n",
    "        alpha_k = [ alpha_y(state,n-k,j) for j in range(2**(k))]\n",
    "        k_controlled_uniform_rotation_y(qc,alpha_k,q[:k],q[k])\n",
    "        qc.barrier()\n",
    "        \n",
    "    print(qc.draw())    \n",
    "    print(\"\\n \\n\")\n",
    "    print(\"Let's verify the results using QuasmSimulator\")\n",
    "    \n",
    "    qc.save_statevector()\n",
    "    backend = QasmSimulator()\n",
    "    backend_options = {'method': 'statevector'}\n",
    "    job = execute(qc, backend, backend_options=backend_options)\n",
    "    job_result = job.result()\n",
    "    \n",
    "    print(\"\\n QuasmSimulators result : \\n\",sorted(np.abs(job_result.get_statevector(qc))))\n",
    "    print(\"\\n Input normalized vector : \\n\",sorted(state))"
   ]
  },
  {
   "cell_type": "markdown",
   "metadata": {},
   "source": [
    "### Let's test the circuit using a 8 element vector.\n",
    " I choose a random vector of length 8."
   ]
  },
  {
   "cell_type": "code",
   "execution_count": 4,
   "metadata": {},
   "outputs": [
    {
     "data": {
      "text/plain": [
       "array([0.85599035, 0.79026786, 0.03558117, 0.29221143, 0.1083591 ,\n",
       "       0.68896892, 0.52518378, 0.49875125])"
      ]
     },
     "execution_count": 4,
     "metadata": {},
     "output_type": "execute_result"
    }
   ],
   "source": [
    "N = 8\n",
    "input_vector =  np.random.random([N])\n",
    "input_vector"
   ]
  },
  {
   "cell_type": "code",
   "execution_count": 5,
   "metadata": {},
   "outputs": [
    {
     "name": "stdout",
     "output_type": "stream",
     "text": [
      "      ┌────────────┐ ░                                          ░ »\n",
      "q0_0: ┤ Ry(1.3935) ├─░─────────────────■────────────────────■───░─»\n",
      "      └────────────┘ ░ ┌────────────┐┌─┴─┐┌──────────────┐┌─┴─┐ ░ »\n",
      "q0_1: ───────────────░─┤ Ry(1.0518) ├┤ X ├┤ Ry(-0.55677) ├┤ X ├─░─»\n",
      "                     ░ └────────────┘└───┘└──────────────┘└───┘ ░ »\n",
      "q0_2: ───────────────░──────────────────────────────────────────░─»\n",
      "                     ░                                          ░ »\n",
      "«                                                                    »\n",
      "«q0_0: ──────────────────────────────────────■───────────────────────»\n",
      "«                                            │                       »\n",
      "«q0_1: ────────────────■─────────────────────┼────────────────────■──»\n",
      "«      ┌────────────┐┌─┴─┐┌───────────────┐┌─┴─┐┌──────────────┐┌─┴─┐»\n",
      "«q0_2: ┤ Ry(2.1848) ├┤ X ├┤ Ry(-0.024461) ├┤ X ├┤ Ry(-0.67967) ├┤ X ├»\n",
      "«      └────────────┘└───┘└───────────────┘└───┘└──────────────┘└───┘»\n",
      "«                            ░ \n",
      "«q0_0: ──────────────────■───░─\n",
      "«                        │   ░ \n",
      "«q0_1: ──────────────────┼───░─\n",
      "«      ┌──────────────┐┌─┴─┐ ░ \n",
      "«q0_2: ┤ Ry(0.010369) ├┤ X ├─░─\n",
      "«      └──────────────┘└───┘ ░ \n",
      "\n",
      " \n",
      "\n",
      "Let's verify the results using QuasmSimulator\n",
      "\n",
      " QuasmSimulators result : \n",
      " [0.022709337180012418, 0.06915914845115945, 0.1865011219437982, 0.31832316362694657, 0.3351934725981224, 0.43972775781622564, 0.5043808272063766, 0.5463275659187714]\n",
      "\n",
      " Input normalized vector : \n",
      " [0.022709337180012352, 0.06915914845115959, 0.1865011219437982, 0.3183231636269466, 0.33519347259812243, 0.43972775781622575, 0.5043808272063766, 0.5463275659187714]\n"
     ]
    }
   ],
   "source": [
    "state_prep(input_vector)"
   ]
  },
  {
   "cell_type": "markdown",
   "metadata": {},
   "source": [
    " ### what if length is not of 2^n form.\n",
    " \n",
    " I have tried trivial solution by adding zeros to this type of vector so it attains 2^n form.\n",
    " I know there is redundacy in this way, which can be removed and made more streamlined."
   ]
  },
  {
   "cell_type": "code",
   "execution_count": 6,
   "metadata": {},
   "outputs": [],
   "source": [
    "N = 5\n",
    "input_vector2 =  np.random.random([N])"
   ]
  },
  {
   "cell_type": "code",
   "execution_count": 7,
   "metadata": {},
   "outputs": [],
   "source": [
    "def state_prep_2(input_vector) :\n",
    "    \n",
    "    n = int(np.ceil(np.log2(len(input_vector))))\n",
    "    input_vector = np.array(list(input_vector) + [0.0]*(2**n-len(input_vector)))\n",
    "    state = ( 1/np.linalg.norm(input_vector) )* input_vector\n",
    "\n",
    "    q = QuantumRegister(n)  # the quantum register initialized with all |0>'s with the circuit\n",
    "    qc = QuantumCircuit(q)\n",
    "    \n",
    "    for k in range(n):\n",
    "        alpha_k = [ alpha_y(state,n-k,j) for j in range(2**(k))]\n",
    "        k_controlled_uniform_rotation_y(qc,alpha_k,q[:k],q[k])\n",
    "        qc.barrier()\n",
    "        \n",
    "    print(qc.draw())    \n",
    "    print(\"\\n \\n\")\n",
    "    print(\"Let's verify the results using QuasmSimulator\")\n",
    "    \n",
    "    qc.save_statevector()\n",
    "    backend = QasmSimulator()\n",
    "    backend_options = {'method': 'statevector'}\n",
    "    job = execute(qc, backend, backend_options=backend_options)\n",
    "    job_result = job.result()\n",
    "    \n",
    "    print(\"\\n QuasmSimulators result : \\n\",sorted(np.round(np.abs(job_result.get_statevector(qc)),10)))\n",
    "    print(\"\\n Input normalized vector : \\n\",sorted(state))"
   ]
  },
  {
   "cell_type": "code",
   "execution_count": 8,
   "metadata": {},
   "outputs": [
    {
     "name": "stdout",
     "output_type": "stream",
     "text": [
      "      ┌────────────┐ ░                                          ░ »\n",
      "q5_0: ┤ Ry(1.0936) ├─░──────────────────■───────────────────■───░─»\n",
      "      └────────────┘ ░ ┌─────────────┐┌─┴─┐┌─────────────┐┌─┴─┐ ░ »\n",
      "q5_1: ───────────────░─┤ Ry(0.87393) ├┤ X ├┤ Ry(0.87393) ├┤ X ├─░─»\n",
      "                     ░ └─────────────┘└───┘└─────────────┘└───┘ ░ »\n",
      "q5_2: ───────────────░──────────────────────────────────────────░─»\n",
      "                     ░                                          ░ »\n",
      "«                                                                    »\n",
      "«q5_0: ──────────────────────────────────────■───────────────────────»\n",
      "«                                            │                       »\n",
      "«q5_1: ─────────────────■────────────────────┼────────────────────■──»\n",
      "«      ┌─────────────┐┌─┴─┐┌──────────────┐┌─┴─┐┌──────────────┐┌─┴─┐»\n",
      "«q5_2: ┤ Ry(0.37821) ├┤ X ├┤ Ry(0.040948) ├┤ X ├┤ Ry(0.040948) ├┤ X ├»\n",
      "«      └─────────────┘└───┘└──────────────┘└───┘└──────────────┘└───┘»\n",
      "«                           ░ \n",
      "«q5_0: ─────────────────■───░─\n",
      "«                       │   ░ \n",
      "«q5_1: ─────────────────┼───░─\n",
      "«      ┌─────────────┐┌─┴─┐ ░ \n",
      "«q5_2: ┤ Ry(0.37821) ├┤ X ├─░─\n",
      "«      └─────────────┘└───┘ ░ \n",
      "\n",
      " \n",
      "\n",
      "Let's verify the results using QuasmSimulator\n",
      "\n",
      " QuasmSimulators result : \n",
      " [0.0, 0.0, 0.0, 0.2167616802, 0.2231309647, 0.5007795326, 0.519942816, 0.6181474537]\n",
      "\n",
      " Input normalized vector : \n",
      " [0.0, 0.0, 0.0, 0.21676168016422978, 0.22313096472206914, 0.500779532557989, 0.5199428159903972, 0.6181474536593651]\n"
     ]
    }
   ],
   "source": [
    "state_prep_2(input_vector2)"
   ]
  },
  {
   "cell_type": "markdown",
   "metadata": {},
   "source": [
    "# Acknowledgement :\n",
    "\n",
    "I am grateful the following resources which I found very helpful during the implementation.\n",
    "\n",
    "\n",
    "[1] Transformation of quantum states using uniformly controlled rotations \n",
    "https://arxiv.org/pdf/quant-ph/0407010.pdf \n",
    "    \n",
    "[2] Efficient decomposition of quantum gates\n",
    "https://arxiv.org/pdf/quant-ph/0312218.pdf\n",
    "    \n",
    "[3] Pennylane (pennylane.templates.state_preparations.mottonen)\n",
    "\n",
    "[4] Uniform rotation gate implemntation by dc-qiskit-algorithms \n",
    "https://dc-qiskit-algorithms.readthedocs.io/\n",
    "\n",
    "Last but not the least, QOSF for giving me this opportunity to implement such good problems.    "
   ]
  }
 ],
 "metadata": {
  "hide_input": false,
  "kernelspec": {
   "display_name": "Python 3",
   "language": "python",
   "name": "python3"
  },
  "language_info": {
   "codemirror_mode": {
    "name": "ipython",
    "version": 3
   },
   "file_extension": ".py",
   "mimetype": "text/x-python",
   "name": "python",
   "nbconvert_exporter": "python",
   "pygments_lexer": "ipython3",
   "version": "3.7.6"
  }
 },
 "nbformat": 4,
 "nbformat_minor": 4
}
